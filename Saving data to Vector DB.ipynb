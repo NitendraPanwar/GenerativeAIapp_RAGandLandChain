{
 "cells": [
  {
   "cell_type": "markdown",
   "metadata": {},
   "source": [
    "Install required libraries"
   ]
  },
  {
   "cell_type": "code",
   "execution_count": 1,
   "metadata": {},
   "outputs": [
    {
     "name": "stdout",
     "output_type": "stream",
     "text": [
      "\n",
      "Usage:   \n",
      "  pip install [options] <requirement specifier> [package-index-options] ...\n",
      "  pip install [options] -r <requirements file> [package-index-options] ...\n",
      "  pip install [options] [-e] <vcs project url> ...\n",
      "  pip install [options] [-e] <local project path> ...\n",
      "  pip install [options] <archive url/path> ...\n",
      "\n",
      "no such option: --useribm-watsonx-ai\n",
      "Requirement already satisfied: langchain==0.2.1 in /home/codespace/.local/lib/python3.12/site-packages (0.2.1)\n",
      "Requirement already satisfied: PyYAML>=5.3 in /home/codespace/.local/lib/python3.12/site-packages (from langchain==0.2.1) (6.0.2)\n",
      "Requirement already satisfied: SQLAlchemy<3,>=1.4 in /home/codespace/.local/lib/python3.12/site-packages (from langchain==0.2.1) (2.0.39)\n",
      "Requirement already satisfied: aiohttp<4.0.0,>=3.8.3 in /home/codespace/.local/lib/python3.12/site-packages (from langchain==0.2.1) (3.11.14)\n",
      "Requirement already satisfied: langchain-core<0.3.0,>=0.2.0 in /home/codespace/.local/lib/python3.12/site-packages (from langchain==0.2.1) (0.2.43)\n",
      "Requirement already satisfied: langchain-text-splitters<0.3.0,>=0.2.0 in /home/codespace/.local/lib/python3.12/site-packages (from langchain==0.2.1) (0.2.4)\n",
      "Requirement already satisfied: langsmith<0.2.0,>=0.1.17 in /home/codespace/.local/lib/python3.12/site-packages (from langchain==0.2.1) (0.1.147)\n",
      "Requirement already satisfied: numpy<2,>=1 in /home/codespace/.local/lib/python3.12/site-packages (from langchain==0.2.1) (1.26.4)\n",
      "Requirement already satisfied: pydantic<3,>=1 in /home/codespace/.local/lib/python3.12/site-packages (from langchain==0.2.1) (1.10.21)\n",
      "Requirement already satisfied: requests<3,>=2 in /home/codespace/.local/lib/python3.12/site-packages (from langchain==0.2.1) (2.32.2)\n",
      "Requirement already satisfied: tenacity<9.0.0,>=8.1.0 in /home/codespace/.local/lib/python3.12/site-packages (from langchain==0.2.1) (8.5.0)\n",
      "Requirement already satisfied: aiohappyeyeballs>=2.3.0 in /home/codespace/.local/lib/python3.12/site-packages (from aiohttp<4.0.0,>=3.8.3->langchain==0.2.1) (2.6.1)\n",
      "Requirement already satisfied: aiosignal>=1.1.2 in /home/codespace/.local/lib/python3.12/site-packages (from aiohttp<4.0.0,>=3.8.3->langchain==0.2.1) (1.3.2)\n",
      "Requirement already satisfied: attrs>=17.3.0 in /home/codespace/.local/lib/python3.12/site-packages (from aiohttp<4.0.0,>=3.8.3->langchain==0.2.1) (24.2.0)\n",
      "Requirement already satisfied: frozenlist>=1.1.1 in /home/codespace/.local/lib/python3.12/site-packages (from aiohttp<4.0.0,>=3.8.3->langchain==0.2.1) (1.5.0)\n",
      "Requirement already satisfied: multidict<7.0,>=4.5 in /home/codespace/.local/lib/python3.12/site-packages (from aiohttp<4.0.0,>=3.8.3->langchain==0.2.1) (6.2.0)\n",
      "Requirement already satisfied: propcache>=0.2.0 in /home/codespace/.local/lib/python3.12/site-packages (from aiohttp<4.0.0,>=3.8.3->langchain==0.2.1) (0.3.0)\n",
      "Requirement already satisfied: yarl<2.0,>=1.17.0 in /home/codespace/.local/lib/python3.12/site-packages (from aiohttp<4.0.0,>=3.8.3->langchain==0.2.1) (1.18.3)\n",
      "Requirement already satisfied: jsonpatch<2.0,>=1.33 in /home/codespace/.local/lib/python3.12/site-packages (from langchain-core<0.3.0,>=0.2.0->langchain==0.2.1) (1.33)\n",
      "Requirement already satisfied: packaging<25,>=23.2 in /home/codespace/.local/lib/python3.12/site-packages (from langchain-core<0.3.0,>=0.2.0->langchain==0.2.1) (24.2)\n",
      "Requirement already satisfied: typing-extensions>=4.7 in /home/codespace/.local/lib/python3.12/site-packages (from langchain-core<0.3.0,>=0.2.0->langchain==0.2.1) (4.12.2)\n",
      "Requirement already satisfied: httpx<1,>=0.23.0 in /home/codespace/.local/lib/python3.12/site-packages (from langsmith<0.2.0,>=0.1.17->langchain==0.2.1) (0.28.1)\n",
      "Requirement already satisfied: orjson<4.0.0,>=3.9.14 in /home/codespace/.local/lib/python3.12/site-packages (from langsmith<0.2.0,>=0.1.17->langchain==0.2.1) (3.10.15)\n",
      "Requirement already satisfied: requests-toolbelt<2.0.0,>=1.0.0 in /home/codespace/.local/lib/python3.12/site-packages (from langsmith<0.2.0,>=0.1.17->langchain==0.2.1) (1.0.0)\n",
      "Requirement already satisfied: charset-normalizer<4,>=2 in /home/codespace/.local/lib/python3.12/site-packages (from requests<3,>=2->langchain==0.2.1) (3.4.0)\n",
      "Requirement already satisfied: idna<4,>=2.5 in /home/codespace/.local/lib/python3.12/site-packages (from requests<3,>=2->langchain==0.2.1) (3.10)\n",
      "Requirement already satisfied: urllib3<3,>=1.21.1 in /home/codespace/.local/lib/python3.12/site-packages (from requests<3,>=2->langchain==0.2.1) (2.2.3)\n",
      "Requirement already satisfied: certifi>=2017.4.17 in /home/codespace/.local/lib/python3.12/site-packages (from requests<3,>=2->langchain==0.2.1) (2024.8.30)\n",
      "Requirement already satisfied: greenlet!=0.4.17 in /home/codespace/.local/lib/python3.12/site-packages (from SQLAlchemy<3,>=1.4->langchain==0.2.1) (3.1.1)\n",
      "Requirement already satisfied: anyio in /home/codespace/.local/lib/python3.12/site-packages (from httpx<1,>=0.23.0->langsmith<0.2.0,>=0.1.17->langchain==0.2.1) (4.7.0)\n",
      "Requirement already satisfied: httpcore==1.* in /home/codespace/.local/lib/python3.12/site-packages (from httpx<1,>=0.23.0->langsmith<0.2.0,>=0.1.17->langchain==0.2.1) (1.0.7)\n",
      "Requirement already satisfied: h11<0.15,>=0.13 in /home/codespace/.local/lib/python3.12/site-packages (from httpcore==1.*->httpx<1,>=0.23.0->langsmith<0.2.0,>=0.1.17->langchain==0.2.1) (0.14.0)\n",
      "Requirement already satisfied: jsonpointer>=1.9 in /home/codespace/.local/lib/python3.12/site-packages (from jsonpatch<2.0,>=1.33->langchain-core<0.3.0,>=0.2.0->langchain==0.2.1) (3.0.0)\n",
      "Requirement already satisfied: sniffio>=1.1 in /home/codespace/.local/lib/python3.12/site-packages (from anyio->httpx<1,>=0.23.0->langsmith<0.2.0,>=0.1.17->langchain==0.2.1) (1.3.1)\n",
      "\n",
      "\u001b[1m[\u001b[0m\u001b[34;49mnotice\u001b[0m\u001b[1;39;49m]\u001b[0m\u001b[39;49m A new release of pip is available: \u001b[0m\u001b[31;49m24.3.1\u001b[0m\u001b[39;49m -> \u001b[0m\u001b[32;49m25.0.1\u001b[0m\n",
      "\u001b[1m[\u001b[0m\u001b[34;49mnotice\u001b[0m\u001b[1;39;49m]\u001b[0m\u001b[39;49m To update, run: \u001b[0m\u001b[32;49mpython3 -m pip install --upgrade pip\u001b[0m\n",
      "Requirement already satisfied: langchain-ibm==0.1.7 in /home/codespace/.local/lib/python3.12/site-packages (0.1.7)\n",
      "Requirement already satisfied: ibm-watsonx-ai<2.0.0,>=1.0.1 in /home/codespace/.local/lib/python3.12/site-packages (from langchain-ibm==0.1.7) (1.1.2)\n",
      "Requirement already satisfied: langchain-core<0.3,>=0.1.50 in /home/codespace/.local/lib/python3.12/site-packages (from langchain-ibm==0.1.7) (0.2.43)\n",
      "Requirement already satisfied: requests in /home/codespace/.local/lib/python3.12/site-packages (from ibm-watsonx-ai<2.0.0,>=1.0.1->langchain-ibm==0.1.7) (2.32.2)\n",
      "Requirement already satisfied: urllib3 in /home/codespace/.local/lib/python3.12/site-packages (from ibm-watsonx-ai<2.0.0,>=1.0.1->langchain-ibm==0.1.7) (2.2.3)\n",
      "Requirement already satisfied: pandas<2.2.0,>=0.24.2 in /home/codespace/.local/lib/python3.12/site-packages (from ibm-watsonx-ai<2.0.0,>=1.0.1->langchain-ibm==0.1.7) (2.1.4)\n",
      "Requirement already satisfied: certifi in /home/codespace/.local/lib/python3.12/site-packages (from ibm-watsonx-ai<2.0.0,>=1.0.1->langchain-ibm==0.1.7) (2024.8.30)\n",
      "Requirement already satisfied: lomond in /home/codespace/.local/lib/python3.12/site-packages (from ibm-watsonx-ai<2.0.0,>=1.0.1->langchain-ibm==0.1.7) (0.3.3)\n",
      "Requirement already satisfied: tabulate in /home/codespace/.local/lib/python3.12/site-packages (from ibm-watsonx-ai<2.0.0,>=1.0.1->langchain-ibm==0.1.7) (0.9.0)\n",
      "Requirement already satisfied: packaging in /home/codespace/.local/lib/python3.12/site-packages (from ibm-watsonx-ai<2.0.0,>=1.0.1->langchain-ibm==0.1.7) (24.2)\n",
      "Requirement already satisfied: ibm-cos-sdk<2.14.0,>=2.12.0 in /home/codespace/.local/lib/python3.12/site-packages (from ibm-watsonx-ai<2.0.0,>=1.0.1->langchain-ibm==0.1.7) (2.13.6)\n",
      "Requirement already satisfied: importlib-metadata in /home/codespace/.local/lib/python3.12/site-packages (from ibm-watsonx-ai<2.0.0,>=1.0.1->langchain-ibm==0.1.7) (8.6.1)\n",
      "Requirement already satisfied: PyYAML>=5.3 in /home/codespace/.local/lib/python3.12/site-packages (from langchain-core<0.3,>=0.1.50->langchain-ibm==0.1.7) (6.0.2)\n",
      "Requirement already satisfied: jsonpatch<2.0,>=1.33 in /home/codespace/.local/lib/python3.12/site-packages (from langchain-core<0.3,>=0.1.50->langchain-ibm==0.1.7) (1.33)\n",
      "Requirement already satisfied: langsmith<0.2.0,>=0.1.112 in /home/codespace/.local/lib/python3.12/site-packages (from langchain-core<0.3,>=0.1.50->langchain-ibm==0.1.7) (0.1.147)\n",
      "Requirement already satisfied: pydantic<3,>=1 in /home/codespace/.local/lib/python3.12/site-packages (from langchain-core<0.3,>=0.1.50->langchain-ibm==0.1.7) (1.10.21)\n",
      "Requirement already satisfied: tenacity!=8.4.0,<9.0.0,>=8.1.0 in /home/codespace/.local/lib/python3.12/site-packages (from langchain-core<0.3,>=0.1.50->langchain-ibm==0.1.7) (8.5.0)\n",
      "Requirement already satisfied: typing-extensions>=4.7 in /home/codespace/.local/lib/python3.12/site-packages (from langchain-core<0.3,>=0.1.50->langchain-ibm==0.1.7) (4.12.2)\n",
      "Requirement already satisfied: ibm-cos-sdk-core==2.13.6 in /home/codespace/.local/lib/python3.12/site-packages (from ibm-cos-sdk<2.14.0,>=2.12.0->ibm-watsonx-ai<2.0.0,>=1.0.1->langchain-ibm==0.1.7) (2.13.6)\n",
      "Requirement already satisfied: ibm-cos-sdk-s3transfer==2.13.6 in /home/codespace/.local/lib/python3.12/site-packages (from ibm-cos-sdk<2.14.0,>=2.12.0->ibm-watsonx-ai<2.0.0,>=1.0.1->langchain-ibm==0.1.7) (2.13.6)\n",
      "Requirement already satisfied: jmespath<=1.0.1,>=0.10.0 in /home/codespace/.local/lib/python3.12/site-packages (from ibm-cos-sdk<2.14.0,>=2.12.0->ibm-watsonx-ai<2.0.0,>=1.0.1->langchain-ibm==0.1.7) (1.0.1)\n",
      "Requirement already satisfied: python-dateutil<3.0.0,>=2.9.0 in /home/codespace/.local/lib/python3.12/site-packages (from ibm-cos-sdk-core==2.13.6->ibm-cos-sdk<2.14.0,>=2.12.0->ibm-watsonx-ai<2.0.0,>=1.0.1->langchain-ibm==0.1.7) (2.9.0.post0)\n",
      "Requirement already satisfied: jsonpointer>=1.9 in /home/codespace/.local/lib/python3.12/site-packages (from jsonpatch<2.0,>=1.33->langchain-core<0.3,>=0.1.50->langchain-ibm==0.1.7) (3.0.0)\n",
      "Requirement already satisfied: httpx<1,>=0.23.0 in /home/codespace/.local/lib/python3.12/site-packages (from langsmith<0.2.0,>=0.1.112->langchain-core<0.3,>=0.1.50->langchain-ibm==0.1.7) (0.28.1)\n",
      "Requirement already satisfied: orjson<4.0.0,>=3.9.14 in /home/codespace/.local/lib/python3.12/site-packages (from langsmith<0.2.0,>=0.1.112->langchain-core<0.3,>=0.1.50->langchain-ibm==0.1.7) (3.10.15)\n",
      "Requirement already satisfied: requests-toolbelt<2.0.0,>=1.0.0 in /home/codespace/.local/lib/python3.12/site-packages (from langsmith<0.2.0,>=0.1.112->langchain-core<0.3,>=0.1.50->langchain-ibm==0.1.7) (1.0.0)\n",
      "Requirement already satisfied: numpy<2,>=1.26.0 in /home/codespace/.local/lib/python3.12/site-packages (from pandas<2.2.0,>=0.24.2->ibm-watsonx-ai<2.0.0,>=1.0.1->langchain-ibm==0.1.7) (1.26.4)\n",
      "Requirement already satisfied: pytz>=2020.1 in /home/codespace/.local/lib/python3.12/site-packages (from pandas<2.2.0,>=0.24.2->ibm-watsonx-ai<2.0.0,>=1.0.1->langchain-ibm==0.1.7) (2024.2)\n",
      "Requirement already satisfied: tzdata>=2022.1 in /home/codespace/.local/lib/python3.12/site-packages (from pandas<2.2.0,>=0.24.2->ibm-watsonx-ai<2.0.0,>=1.0.1->langchain-ibm==0.1.7) (2024.2)\n",
      "Requirement already satisfied: charset-normalizer<4,>=2 in /home/codespace/.local/lib/python3.12/site-packages (from requests->ibm-watsonx-ai<2.0.0,>=1.0.1->langchain-ibm==0.1.7) (3.4.0)\n",
      "Requirement already satisfied: idna<4,>=2.5 in /home/codespace/.local/lib/python3.12/site-packages (from requests->ibm-watsonx-ai<2.0.0,>=1.0.1->langchain-ibm==0.1.7) (3.10)\n",
      "Requirement already satisfied: zipp>=3.20 in /home/codespace/.local/lib/python3.12/site-packages (from importlib-metadata->ibm-watsonx-ai<2.0.0,>=1.0.1->langchain-ibm==0.1.7) (3.21.0)\n",
      "Requirement already satisfied: six>=1.10.0 in /home/codespace/.local/lib/python3.12/site-packages (from lomond->ibm-watsonx-ai<2.0.0,>=1.0.1->langchain-ibm==0.1.7) (1.17.0)\n",
      "Requirement already satisfied: anyio in /home/codespace/.local/lib/python3.12/site-packages (from httpx<1,>=0.23.0->langsmith<0.2.0,>=0.1.112->langchain-core<0.3,>=0.1.50->langchain-ibm==0.1.7) (4.7.0)\n",
      "Requirement already satisfied: httpcore==1.* in /home/codespace/.local/lib/python3.12/site-packages (from httpx<1,>=0.23.0->langsmith<0.2.0,>=0.1.112->langchain-core<0.3,>=0.1.50->langchain-ibm==0.1.7) (1.0.7)\n",
      "Requirement already satisfied: h11<0.15,>=0.13 in /home/codespace/.local/lib/python3.12/site-packages (from httpcore==1.*->httpx<1,>=0.23.0->langsmith<0.2.0,>=0.1.112->langchain-core<0.3,>=0.1.50->langchain-ibm==0.1.7) (0.14.0)\n",
      "Requirement already satisfied: sniffio>=1.1 in /home/codespace/.local/lib/python3.12/site-packages (from anyio->httpx<1,>=0.23.0->langsmith<0.2.0,>=0.1.112->langchain-core<0.3,>=0.1.50->langchain-ibm==0.1.7) (1.3.1)\n",
      "\n",
      "\u001b[1m[\u001b[0m\u001b[34;49mnotice\u001b[0m\u001b[1;39;49m]\u001b[0m\u001b[39;49m A new release of pip is available: \u001b[0m\u001b[31;49m24.3.1\u001b[0m\u001b[39;49m -> \u001b[0m\u001b[32;49m25.0.1\u001b[0m\n",
      "\u001b[1m[\u001b[0m\u001b[34;49mnotice\u001b[0m\u001b[1;39;49m]\u001b[0m\u001b[39;49m To update, run: \u001b[0m\u001b[32;49mpython3 -m pip install --upgrade pip\u001b[0m\n",
      "Requirement already satisfied: langchain-community==0.2.1 in /home/codespace/.local/lib/python3.12/site-packages (0.2.1)\n",
      "Requirement already satisfied: PyYAML>=5.3 in /home/codespace/.local/lib/python3.12/site-packages (from langchain-community==0.2.1) (6.0.2)\n",
      "Requirement already satisfied: SQLAlchemy<3,>=1.4 in /home/codespace/.local/lib/python3.12/site-packages (from langchain-community==0.2.1) (2.0.39)\n",
      "Requirement already satisfied: aiohttp<4.0.0,>=3.8.3 in /home/codespace/.local/lib/python3.12/site-packages (from langchain-community==0.2.1) (3.11.14)\n",
      "Requirement already satisfied: dataclasses-json<0.7,>=0.5.7 in /home/codespace/.local/lib/python3.12/site-packages (from langchain-community==0.2.1) (0.6.7)\n",
      "Requirement already satisfied: langchain<0.3.0,>=0.2.0 in /home/codespace/.local/lib/python3.12/site-packages (from langchain-community==0.2.1) (0.2.1)\n",
      "Requirement already satisfied: langchain-core<0.3.0,>=0.2.0 in /home/codespace/.local/lib/python3.12/site-packages (from langchain-community==0.2.1) (0.2.43)\n",
      "Requirement already satisfied: langsmith<0.2.0,>=0.1.0 in /home/codespace/.local/lib/python3.12/site-packages (from langchain-community==0.2.1) (0.1.147)\n",
      "Requirement already satisfied: numpy<2,>=1 in /home/codespace/.local/lib/python3.12/site-packages (from langchain-community==0.2.1) (1.26.4)\n",
      "Requirement already satisfied: requests<3,>=2 in /home/codespace/.local/lib/python3.12/site-packages (from langchain-community==0.2.1) (2.32.2)\n",
      "Requirement already satisfied: tenacity<9.0.0,>=8.1.0 in /home/codespace/.local/lib/python3.12/site-packages (from langchain-community==0.2.1) (8.5.0)\n",
      "Requirement already satisfied: aiohappyeyeballs>=2.3.0 in /home/codespace/.local/lib/python3.12/site-packages (from aiohttp<4.0.0,>=3.8.3->langchain-community==0.2.1) (2.6.1)\n",
      "Requirement already satisfied: aiosignal>=1.1.2 in /home/codespace/.local/lib/python3.12/site-packages (from aiohttp<4.0.0,>=3.8.3->langchain-community==0.2.1) (1.3.2)\n",
      "Requirement already satisfied: attrs>=17.3.0 in /home/codespace/.local/lib/python3.12/site-packages (from aiohttp<4.0.0,>=3.8.3->langchain-community==0.2.1) (24.2.0)\n",
      "Requirement already satisfied: frozenlist>=1.1.1 in /home/codespace/.local/lib/python3.12/site-packages (from aiohttp<4.0.0,>=3.8.3->langchain-community==0.2.1) (1.5.0)\n",
      "Requirement already satisfied: multidict<7.0,>=4.5 in /home/codespace/.local/lib/python3.12/site-packages (from aiohttp<4.0.0,>=3.8.3->langchain-community==0.2.1) (6.2.0)\n",
      "Requirement already satisfied: propcache>=0.2.0 in /home/codespace/.local/lib/python3.12/site-packages (from aiohttp<4.0.0,>=3.8.3->langchain-community==0.2.1) (0.3.0)\n",
      "Requirement already satisfied: yarl<2.0,>=1.17.0 in /home/codespace/.local/lib/python3.12/site-packages (from aiohttp<4.0.0,>=3.8.3->langchain-community==0.2.1) (1.18.3)\n",
      "Requirement already satisfied: marshmallow<4.0.0,>=3.18.0 in /home/codespace/.local/lib/python3.12/site-packages (from dataclasses-json<0.7,>=0.5.7->langchain-community==0.2.1) (3.26.1)\n",
      "Requirement already satisfied: typing-inspect<1,>=0.4.0 in /home/codespace/.local/lib/python3.12/site-packages (from dataclasses-json<0.7,>=0.5.7->langchain-community==0.2.1) (0.9.0)\n",
      "Requirement already satisfied: langchain-text-splitters<0.3.0,>=0.2.0 in /home/codespace/.local/lib/python3.12/site-packages (from langchain<0.3.0,>=0.2.0->langchain-community==0.2.1) (0.2.4)\n",
      "Requirement already satisfied: pydantic<3,>=1 in /home/codespace/.local/lib/python3.12/site-packages (from langchain<0.3.0,>=0.2.0->langchain-community==0.2.1) (1.10.21)\n",
      "Requirement already satisfied: jsonpatch<2.0,>=1.33 in /home/codespace/.local/lib/python3.12/site-packages (from langchain-core<0.3.0,>=0.2.0->langchain-community==0.2.1) (1.33)\n",
      "Requirement already satisfied: packaging<25,>=23.2 in /home/codespace/.local/lib/python3.12/site-packages (from langchain-core<0.3.0,>=0.2.0->langchain-community==0.2.1) (24.2)\n",
      "Requirement already satisfied: typing-extensions>=4.7 in /home/codespace/.local/lib/python3.12/site-packages (from langchain-core<0.3.0,>=0.2.0->langchain-community==0.2.1) (4.12.2)\n",
      "Requirement already satisfied: httpx<1,>=0.23.0 in /home/codespace/.local/lib/python3.12/site-packages (from langsmith<0.2.0,>=0.1.0->langchain-community==0.2.1) (0.28.1)\n",
      "Requirement already satisfied: orjson<4.0.0,>=3.9.14 in /home/codespace/.local/lib/python3.12/site-packages (from langsmith<0.2.0,>=0.1.0->langchain-community==0.2.1) (3.10.15)\n",
      "Requirement already satisfied: requests-toolbelt<2.0.0,>=1.0.0 in /home/codespace/.local/lib/python3.12/site-packages (from langsmith<0.2.0,>=0.1.0->langchain-community==0.2.1) (1.0.0)\n",
      "Requirement already satisfied: charset-normalizer<4,>=2 in /home/codespace/.local/lib/python3.12/site-packages (from requests<3,>=2->langchain-community==0.2.1) (3.4.0)\n",
      "Requirement already satisfied: idna<4,>=2.5 in /home/codespace/.local/lib/python3.12/site-packages (from requests<3,>=2->langchain-community==0.2.1) (3.10)\n",
      "Requirement already satisfied: urllib3<3,>=1.21.1 in /home/codespace/.local/lib/python3.12/site-packages (from requests<3,>=2->langchain-community==0.2.1) (2.2.3)\n",
      "Requirement already satisfied: certifi>=2017.4.17 in /home/codespace/.local/lib/python3.12/site-packages (from requests<3,>=2->langchain-community==0.2.1) (2024.8.30)\n",
      "Requirement already satisfied: greenlet!=0.4.17 in /home/codespace/.local/lib/python3.12/site-packages (from SQLAlchemy<3,>=1.4->langchain-community==0.2.1) (3.1.1)\n",
      "Requirement already satisfied: anyio in /home/codespace/.local/lib/python3.12/site-packages (from httpx<1,>=0.23.0->langsmith<0.2.0,>=0.1.0->langchain-community==0.2.1) (4.7.0)\n",
      "Requirement already satisfied: httpcore==1.* in /home/codespace/.local/lib/python3.12/site-packages (from httpx<1,>=0.23.0->langsmith<0.2.0,>=0.1.0->langchain-community==0.2.1) (1.0.7)\n",
      "Requirement already satisfied: h11<0.15,>=0.13 in /home/codespace/.local/lib/python3.12/site-packages (from httpcore==1.*->httpx<1,>=0.23.0->langsmith<0.2.0,>=0.1.0->langchain-community==0.2.1) (0.14.0)\n",
      "Requirement already satisfied: jsonpointer>=1.9 in /home/codespace/.local/lib/python3.12/site-packages (from jsonpatch<2.0,>=1.33->langchain-core<0.3.0,>=0.2.0->langchain-community==0.2.1) (3.0.0)\n",
      "Requirement already satisfied: mypy-extensions>=0.3.0 in /home/codespace/.local/lib/python3.12/site-packages (from typing-inspect<1,>=0.4.0->dataclasses-json<0.7,>=0.5.7->langchain-community==0.2.1) (1.0.0)\n",
      "Requirement already satisfied: sniffio>=1.1 in /home/codespace/.local/lib/python3.12/site-packages (from anyio->httpx<1,>=0.23.0->langsmith<0.2.0,>=0.1.0->langchain-community==0.2.1) (1.3.1)\n",
      "\n",
      "\u001b[1m[\u001b[0m\u001b[34;49mnotice\u001b[0m\u001b[1;39;49m]\u001b[0m\u001b[39;49m A new release of pip is available: \u001b[0m\u001b[31;49m24.3.1\u001b[0m\u001b[39;49m -> \u001b[0m\u001b[32;49m25.0.1\u001b[0m\n",
      "\u001b[1m[\u001b[0m\u001b[34;49mnotice\u001b[0m\u001b[1;39;49m]\u001b[0m\u001b[39;49m To update, run: \u001b[0m\u001b[32;49mpython3 -m pip install --upgrade pip\u001b[0m\n",
      "Requirement already satisfied: chromadb==0.3.29 in /home/codespace/.local/lib/python3.12/site-packages (0.3.29)\n",
      "Requirement already satisfied: pandas>=1.3 in /home/codespace/.local/lib/python3.12/site-packages (from chromadb==0.3.29) (2.1.4)\n",
      "Requirement already satisfied: requests>=2.28 in /home/codespace/.local/lib/python3.12/site-packages (from chromadb==0.3.29) (2.32.2)\n",
      "Requirement already satisfied: pydantic<2.0,>=1.9 in /home/codespace/.local/lib/python3.12/site-packages (from chromadb==0.3.29) (1.10.21)\n",
      "Requirement already satisfied: hnswlib>=0.7 in /home/codespace/.local/lib/python3.12/site-packages (from chromadb==0.3.29) (0.8.0)\n",
      "Requirement already satisfied: clickhouse-connect>=0.5.7 in /home/codespace/.local/lib/python3.12/site-packages (from chromadb==0.3.29) (0.8.15)\n",
      "Requirement already satisfied: duckdb>=0.7.1 in /home/codespace/.local/lib/python3.12/site-packages (from chromadb==0.3.29) (1.2.1)\n",
      "Requirement already satisfied: fastapi==0.85.1 in /home/codespace/.local/lib/python3.12/site-packages (from chromadb==0.3.29) (0.85.1)\n",
      "Requirement already satisfied: uvicorn>=0.18.3 in /home/codespace/.local/lib/python3.12/site-packages (from uvicorn[standard]>=0.18.3->chromadb==0.3.29) (0.34.0)\n",
      "Requirement already satisfied: numpy>=1.21.6 in /home/codespace/.local/lib/python3.12/site-packages (from chromadb==0.3.29) (1.26.4)\n",
      "Requirement already satisfied: posthog>=2.4.0 in /home/codespace/.local/lib/python3.12/site-packages (from chromadb==0.3.29) (3.21.0)\n",
      "Requirement already satisfied: typing-extensions>=4.5.0 in /home/codespace/.local/lib/python3.12/site-packages (from chromadb==0.3.29) (4.12.2)\n",
      "Requirement already satisfied: pulsar-client>=3.1.0 in /home/codespace/.local/lib/python3.12/site-packages (from chromadb==0.3.29) (3.6.1)\n",
      "Requirement already satisfied: onnxruntime>=1.14.1 in /home/codespace/.local/lib/python3.12/site-packages (from chromadb==0.3.29) (1.21.0)\n",
      "Requirement already satisfied: tokenizers>=0.13.2 in /home/codespace/.local/lib/python3.12/site-packages (from chromadb==0.3.29) (0.21.1)\n",
      "Requirement already satisfied: tqdm>=4.65.0 in /home/codespace/.local/lib/python3.12/site-packages (from chromadb==0.3.29) (4.67.1)\n",
      "Requirement already satisfied: overrides>=7.3.1 in /home/codespace/.local/lib/python3.12/site-packages (from chromadb==0.3.29) (7.7.0)\n",
      "Requirement already satisfied: starlette==0.20.4 in /home/codespace/.local/lib/python3.12/site-packages (from fastapi==0.85.1->chromadb==0.3.29) (0.20.4)\n",
      "Requirement already satisfied: anyio<5,>=3.4.0 in /home/codespace/.local/lib/python3.12/site-packages (from starlette==0.20.4->fastapi==0.85.1->chromadb==0.3.29) (4.7.0)\n",
      "Requirement already satisfied: certifi in /home/codespace/.local/lib/python3.12/site-packages (from clickhouse-connect>=0.5.7->chromadb==0.3.29) (2024.8.30)\n",
      "Requirement already satisfied: urllib3>=1.26 in /home/codespace/.local/lib/python3.12/site-packages (from clickhouse-connect>=0.5.7->chromadb==0.3.29) (2.2.3)\n",
      "Requirement already satisfied: pytz in /home/codespace/.local/lib/python3.12/site-packages (from clickhouse-connect>=0.5.7->chromadb==0.3.29) (2024.2)\n",
      "Requirement already satisfied: zstandard in /home/codespace/.local/lib/python3.12/site-packages (from clickhouse-connect>=0.5.7->chromadb==0.3.29) (0.23.0)\n",
      "Requirement already satisfied: lz4 in /home/codespace/.local/lib/python3.12/site-packages (from clickhouse-connect>=0.5.7->chromadb==0.3.29) (4.4.3)\n",
      "Requirement already satisfied: coloredlogs in /home/codespace/.local/lib/python3.12/site-packages (from onnxruntime>=1.14.1->chromadb==0.3.29) (15.0.1)\n",
      "Requirement already satisfied: flatbuffers in /home/codespace/.local/lib/python3.12/site-packages (from onnxruntime>=1.14.1->chromadb==0.3.29) (25.2.10)\n",
      "Requirement already satisfied: packaging in /home/codespace/.local/lib/python3.12/site-packages (from onnxruntime>=1.14.1->chromadb==0.3.29) (24.2)\n",
      "Requirement already satisfied: protobuf in /home/codespace/.local/lib/python3.12/site-packages (from onnxruntime>=1.14.1->chromadb==0.3.29) (5.29.4)\n",
      "Requirement already satisfied: sympy in /home/codespace/.local/lib/python3.12/site-packages (from onnxruntime>=1.14.1->chromadb==0.3.29) (1.13.1)\n",
      "Requirement already satisfied: python-dateutil>=2.8.2 in /home/codespace/.local/lib/python3.12/site-packages (from pandas>=1.3->chromadb==0.3.29) (2.9.0.post0)\n",
      "Requirement already satisfied: tzdata>=2022.1 in /home/codespace/.local/lib/python3.12/site-packages (from pandas>=1.3->chromadb==0.3.29) (2024.2)\n",
      "Requirement already satisfied: six>=1.5 in /home/codespace/.local/lib/python3.12/site-packages (from posthog>=2.4.0->chromadb==0.3.29) (1.17.0)\n",
      "Requirement already satisfied: monotonic>=1.5 in /home/codespace/.local/lib/python3.12/site-packages (from posthog>=2.4.0->chromadb==0.3.29) (1.6)\n",
      "Requirement already satisfied: backoff>=1.10.0 in /home/codespace/.local/lib/python3.12/site-packages (from posthog>=2.4.0->chromadb==0.3.29) (2.2.1)\n",
      "Requirement already satisfied: distro>=1.5.0 in /home/codespace/.local/lib/python3.12/site-packages (from posthog>=2.4.0->chromadb==0.3.29) (1.9.0)\n",
      "Requirement already satisfied: charset-normalizer<4,>=2 in /home/codespace/.local/lib/python3.12/site-packages (from requests>=2.28->chromadb==0.3.29) (3.4.0)\n",
      "Requirement already satisfied: idna<4,>=2.5 in /home/codespace/.local/lib/python3.12/site-packages (from requests>=2.28->chromadb==0.3.29) (3.10)\n",
      "Requirement already satisfied: huggingface-hub<1.0,>=0.16.4 in /home/codespace/.local/lib/python3.12/site-packages (from tokenizers>=0.13.2->chromadb==0.3.29) (0.29.3)\n",
      "Requirement already satisfied: click>=7.0 in /home/codespace/.local/lib/python3.12/site-packages (from uvicorn>=0.18.3->uvicorn[standard]>=0.18.3->chromadb==0.3.29) (8.1.8)\n",
      "Requirement already satisfied: h11>=0.8 in /home/codespace/.local/lib/python3.12/site-packages (from uvicorn>=0.18.3->uvicorn[standard]>=0.18.3->chromadb==0.3.29) (0.14.0)\n",
      "Requirement already satisfied: httptools>=0.6.3 in /home/codespace/.local/lib/python3.12/site-packages (from uvicorn[standard]>=0.18.3->chromadb==0.3.29) (0.6.4)\n",
      "Requirement already satisfied: python-dotenv>=0.13 in /home/codespace/.local/lib/python3.12/site-packages (from uvicorn[standard]>=0.18.3->chromadb==0.3.29) (1.0.1)\n",
      "Requirement already satisfied: pyyaml>=5.1 in /home/codespace/.local/lib/python3.12/site-packages (from uvicorn[standard]>=0.18.3->chromadb==0.3.29) (6.0.2)\n",
      "Requirement already satisfied: uvloop!=0.15.0,!=0.15.1,>=0.14.0 in /home/codespace/.local/lib/python3.12/site-packages (from uvicorn[standard]>=0.18.3->chromadb==0.3.29) (0.21.0)\n",
      "Requirement already satisfied: watchfiles>=0.13 in /home/codespace/.local/lib/python3.12/site-packages (from uvicorn[standard]>=0.18.3->chromadb==0.3.29) (1.0.4)\n",
      "Requirement already satisfied: websockets>=10.4 in /home/codespace/.local/lib/python3.12/site-packages (from uvicorn[standard]>=0.18.3->chromadb==0.3.29) (15.0.1)\n",
      "Requirement already satisfied: filelock in /home/codespace/.local/lib/python3.12/site-packages (from huggingface-hub<1.0,>=0.16.4->tokenizers>=0.13.2->chromadb==0.3.29) (3.13.1)\n",
      "Requirement already satisfied: fsspec>=2023.5.0 in /home/codespace/.local/lib/python3.12/site-packages (from huggingface-hub<1.0,>=0.16.4->tokenizers>=0.13.2->chromadb==0.3.29) (2024.2.0)\n",
      "Requirement already satisfied: humanfriendly>=9.1 in /home/codespace/.local/lib/python3.12/site-packages (from coloredlogs->onnxruntime>=1.14.1->chromadb==0.3.29) (10.0)\n",
      "Requirement already satisfied: mpmath<1.4,>=1.1.0 in /home/codespace/.local/lib/python3.12/site-packages (from sympy->onnxruntime>=1.14.1->chromadb==0.3.29) (1.3.0)\n",
      "Requirement already satisfied: sniffio>=1.1 in /home/codespace/.local/lib/python3.12/site-packages (from anyio<5,>=3.4.0->starlette==0.20.4->fastapi==0.85.1->chromadb==0.3.29) (1.3.1)\n",
      "\n",
      "\u001b[1m[\u001b[0m\u001b[34;49mnotice\u001b[0m\u001b[1;39;49m]\u001b[0m\u001b[39;49m A new release of pip is available: \u001b[0m\u001b[31;49m24.3.1\u001b[0m\u001b[39;49m -> \u001b[0m\u001b[32;49m25.0.1\u001b[0m\n",
      "\u001b[1m[\u001b[0m\u001b[34;49mnotice\u001b[0m\u001b[1;39;49m]\u001b[0m\u001b[39;49m To update, run: \u001b[0m\u001b[32;49mpython3 -m pip install --upgrade pip\u001b[0m\n",
      "Requirement already satisfied: faiss-cpu==1.8.0 in /home/codespace/.local/lib/python3.12/site-packages (1.8.0)\n",
      "Requirement already satisfied: numpy in /home/codespace/.local/lib/python3.12/site-packages (from faiss-cpu==1.8.0) (1.26.4)\n",
      "\n",
      "\u001b[1m[\u001b[0m\u001b[34;49mnotice\u001b[0m\u001b[1;39;49m]\u001b[0m\u001b[39;49m A new release of pip is available: \u001b[0m\u001b[31;49m24.3.1\u001b[0m\u001b[39;49m -> \u001b[0m\u001b[32;49m25.0.1\u001b[0m\n",
      "\u001b[1m[\u001b[0m\u001b[34;49mnotice\u001b[0m\u001b[1;39;49m]\u001b[0m\u001b[39;49m To update, run: \u001b[0m\u001b[32;49mpython3 -m pip install --upgrade pip\u001b[0m\n"
     ]
    }
   ],
   "source": [
    "#After executing the cell,please RESTART the kernel and run all the cells.\n",
    "!pip install --user\"ibm-watsonx-ai==1.0.4\"\n",
    "!pip install  --user \"langchain==0.2.1\" \n",
    "!pip install  --user \"langchain-ibm==0.1.7\"\n",
    "!pip install  --user \"langchain-community==0.2.1\"\n",
    "#!pip install --user \"chromadb==0.4.24\"\n",
    "!pip install --user \"chromadb==0.3.29\"\n",
    "#!pip install --upgrade chromadb\n",
    "!pip install  --user \"faiss-cpu==1.8.0\""
   ]
  },
  {
   "cell_type": "markdown",
   "metadata": {},
   "source": [
    "Loading file"
   ]
  },
  {
   "cell_type": "code",
   "execution_count": 1,
   "metadata": {},
   "outputs": [],
   "source": [
    "#!wget \"https://cf-courses-data.s3.us.cloud-object-storage.appdomain.cloud/BYlUHaillwM8EUItaIytHQ/companypolicies.txt\"\n",
    "from langchain_community.document_loaders import TextLoader\n",
    "loader = TextLoader(\"companypolicies.txt\")\n",
    "data = loader.load()\n",
    "#data[0]"
   ]
  },
  {
   "cell_type": "markdown",
   "metadata": {},
   "source": [
    "Splitting data"
   ]
  },
  {
   "cell_type": "code",
   "execution_count": 2,
   "metadata": {},
   "outputs": [
    {
     "data": {
      "text/plain": [
       "215"
      ]
     },
     "execution_count": 2,
     "metadata": {},
     "output_type": "execute_result"
    }
   ],
   "source": [
    "from langchain.text_splitter import RecursiveCharacterTextSplitter\n",
    "text_splitter = RecursiveCharacterTextSplitter(\n",
    "    chunk_size=100,\n",
    "    chunk_overlap=20,\n",
    "    length_function=len,\n",
    ")\n",
    "\n",
    "chunks = text_splitter.split_documents(data)\n",
    "len(chunks)"
   ]
  },
  {
   "cell_type": "markdown",
   "metadata": {},
   "source": [
    "Embedding model"
   ]
  },
  {
   "cell_type": "code",
   "execution_count": 3,
   "metadata": {},
   "outputs": [],
   "source": [
    "import os\n",
    "\n",
    "os.environ['WATSONX_APIKEY'] = 'anJE64S_680sJPkVOd64EVj6SDKpMYHFZ5_IIe3u3sQb'\n"
   ]
  },
  {
   "cell_type": "code",
   "execution_count": 4,
   "metadata": {},
   "outputs": [],
   "source": [
    "from ibm_watsonx_ai.metanames import EmbedTextParamsMetaNames\n",
    "from langchain_ibm import WatsonxEmbeddings\n",
    "\n",
    "embed_params = {\n",
    "    EmbedTextParamsMetaNames.TRUNCATE_INPUT_TOKENS: 3,\n",
    "    EmbedTextParamsMetaNames.RETURN_OPTIONS: {\"input_text\": True},\n",
    "}\n",
    "\n",
    "watsonx_embedding = WatsonxEmbeddings(\n",
    "    model_id=\"ibm/slate-125m-english-rtrvr\",\n",
    "     url=\"https://eu-de.ml.cloud.ibm.com\",\n",
    "    project_id=\"7ce63394-6c4b-4e32-8909-456031209bab\",\n",
    "    params=embed_params,\n",
    ")\n"
   ]
  },
  {
   "cell_type": "markdown",
   "metadata": {
    "jupyter": {
     "source_hidden": true
    }
   },
   "source": [
    "Vector store Chroma"
   ]
  },
  {
   "cell_type": "code",
   "execution_count": 5,
   "metadata": {},
   "outputs": [
    {
     "data": {
      "text/plain": [
       "[Document(metadata={'source': 'companypolicies.txt'}, page_content='1.\\tCode of Conduct'),\n",
       " Document(metadata={'source': 'companypolicies.txt'}, page_content='Our Code of Conduct outlines the fundamental principles and ethical standards that guide every')]"
      ]
     },
     "execution_count": 5,
     "metadata": {},
     "output_type": "execute_result"
    }
   ],
   "source": [
    "chunks[0:2]"
   ]
  },
  {
   "cell_type": "code",
   "execution_count": 6,
   "metadata": {},
   "outputs": [],
   "source": [
    "from langchain.vectorstores import Chroma\n",
    "\n",
    "ids = [str(i) for i in range(0, len(chunks))]\n",
    "\n",
    "vectordb = Chroma.from_documents(chunks, watsonx_embedding, ids=ids)\n"
   ]
  },
  {
   "cell_type": "code",
   "execution_count": 7,
   "metadata": {},
   "outputs": [
    {
     "data": {
      "text/plain": [
       "215"
      ]
     },
     "execution_count": 7,
     "metadata": {},
     "output_type": "execute_result"
    }
   ],
   "source": [
    "vectordb._collection.count()"
   ]
  },
  {
   "cell_type": "code",
   "execution_count": 8,
   "metadata": {},
   "outputs": [
    {
     "name": "stdout",
     "output_type": "stream",
     "text": [
      "{'ids': ['0'], 'embeddings': None, 'documents': ['1.\\tCode of Conduct'], 'metadatas': [{'source': 'companypolicies.txt'}]}\n",
      "{'ids': ['1'], 'embeddings': None, 'documents': ['Our Code of Conduct outlines the fundamental principles and ethical standards that guide every'], 'metadatas': [{'source': 'companypolicies.txt'}]}\n",
      "{'ids': ['2'], 'embeddings': None, 'documents': ['that guide every member of our organization. We are committed to maintaining a workplace that is'], 'metadatas': [{'source': 'companypolicies.txt'}]}\n"
     ]
    }
   ],
   "source": [
    "for i in range(3):\n",
    "    print(vectordb._collection.get(ids=str(i)))"
   ]
  },
  {
   "cell_type": "markdown",
   "metadata": {},
   "source": [
    "Similarity Search"
   ]
  },
  {
   "cell_type": "code",
   "execution_count": 9,
   "metadata": {},
   "outputs": [
    {
     "data": {
      "text/plain": [
       "[Document(metadata={'source': 'companypolicies.txt'}, page_content='internet and email usage, including those related to copyright and data protection.'),\n",
       " Document(metadata={'source': 'companypolicies.txt'}, page_content='to this policy. Non-compliance may lead to appropriate disciplinary action, which could include'),\n",
       " Document(metadata={'source': 'companypolicies.txt'}, page_content='This policy serves as a framework for handling discipline and termination. The organization'),\n",
       " Document(metadata={'source': 'companypolicies.txt'}, page_content='Policy Purpose: The Smoking Policy has been established to provide clear guidance and expectations')]"
      ]
     },
     "execution_count": 9,
     "metadata": {},
     "output_type": "execute_result"
    }
   ],
   "source": [
    "#Similarity Search\n",
    "query = \"Email policy\"\n",
    "docs = vectordb.similarity_search(query)\n",
    "docs"
   ]
  },
  {
   "cell_type": "code",
   "execution_count": 10,
   "metadata": {},
   "outputs": [
    {
     "data": {
      "text/plain": [
       "[Document(metadata={'source': 'companypolicies.txt'}, page_content='internet and email usage, including those related to copyright and data protection.')]"
      ]
     },
     "execution_count": 10,
     "metadata": {},
     "output_type": "execute_result"
    }
   ],
   "source": [
    "vectordb.similarity_search(query, k = 1)"
   ]
  },
  {
   "cell_type": "markdown",
   "metadata": {},
   "source": [
    "FAISS db example"
   ]
  },
  {
   "cell_type": "code",
   "execution_count": 11,
   "metadata": {},
   "outputs": [
    {
     "name": "stdout",
     "output_type": "stream",
     "text": [
      "page_content='1.\tCode of Conduct' metadata={'source': 'companypolicies.txt'}\n",
      "page_content='Our Code of Conduct outlines the fundamental principles and ethical standards that guide every' metadata={'source': 'companypolicies.txt'}\n",
      "page_content='that guide every member of our organization. We are committed to maintaining a workplace that is' metadata={'source': 'companypolicies.txt'}\n"
     ]
    }
   ],
   "source": [
    "#FAISS db\n",
    "from langchain_community.vectorstores import FAISS\n",
    "faissdb = FAISS.from_documents(chunks, watsonx_embedding, ids=ids)\n",
    "\n",
    "for i in range(3):\n",
    "    print(faissdb.docstore.search(str(i)))"
   ]
  },
  {
   "cell_type": "markdown",
   "metadata": {},
   "source": [
    "Similarity search"
   ]
  },
  {
   "cell_type": "code",
   "execution_count": 13,
   "metadata": {},
   "outputs": [
    {
     "data": {
      "text/plain": [
       "[Document(metadata={'source': 'companypolicies.txt'}, page_content='internet and email usage, including those related to copyright and data protection.')]"
      ]
     },
     "execution_count": 13,
     "metadata": {},
     "output_type": "execute_result"
    }
   ],
   "source": [
    "#Similarity search\n",
    "query = \"Email policy\"\n",
    "docs = faissdb.similarity_search(query, k=1)\n",
    "docs"
   ]
  },
  {
   "cell_type": "markdown",
   "metadata": {},
   "source": [
    "Managing vector store : Adding, updating, and deleting entries"
   ]
  },
  {
   "cell_type": "code",
   "execution_count": 14,
   "metadata": {},
   "outputs": [
    {
     "name": "stdout",
     "output_type": "stream",
     "text": [
      "{'ids': [], 'embeddings': None, 'documents': [], 'metadatas': []}\n"
     ]
    }
   ],
   "source": [
    "#Managing vector store: Adding, updating, and deleting entries\n",
    "#Add\n",
    "text = \"Instructlab is the best open source tool for fine-tuning a LLM.\" #Content\n",
    "from langchain_core.documents import Document\n",
    "\n",
    "#Creating one chunck document\n",
    "new_chunk =  Document(\n",
    "    page_content=text,\n",
    "    metadata={\n",
    "        \"source\": \"ibm.com\",\n",
    "        \"page\": 1\n",
    "    }\n",
    ")\n",
    "\n",
    "#Adding new chunck to array\n",
    "new_chunks = [new_chunk]\n",
    "\n",
    "print(vectordb._collection.get(ids=['215']))\n"
   ]
  },
  {
   "cell_type": "code",
   "execution_count": 15,
   "metadata": {},
   "outputs": [
    {
     "data": {
      "text/plain": [
       "['215']"
      ]
     },
     "execution_count": 15,
     "metadata": {},
     "output_type": "execute_result"
    }
   ],
   "source": [
    "vectordb.add_documents(\n",
    "    new_chunks,\n",
    "    ids=[\"215\"]\n",
    ")"
   ]
  },
  {
   "cell_type": "code",
   "execution_count": 16,
   "metadata": {},
   "outputs": [
    {
     "data": {
      "text/plain": [
       "216"
      ]
     },
     "execution_count": 16,
     "metadata": {},
     "output_type": "execute_result"
    }
   ],
   "source": [
    "vectordb._collection.count()"
   ]
  },
  {
   "cell_type": "code",
   "execution_count": 17,
   "metadata": {},
   "outputs": [
    {
     "name": "stdout",
     "output_type": "stream",
     "text": [
      "{'ids': ['215'], 'embeddings': None, 'documents': ['Instructlab is the best open source tool for fine-tuning a LLM.'], 'metadatas': [{'source': 'ibm.com', 'page': 1}]}\n"
     ]
    }
   ],
   "source": [
    "print(vectordb._collection.get(ids=['215']))"
   ]
  },
  {
   "cell_type": "code",
   "execution_count": 18,
   "metadata": {},
   "outputs": [
    {
     "name": "stdout",
     "output_type": "stream",
     "text": [
      "{'ids': ['215'], 'embeddings': None, 'documents': ['Instructlab is a perfect open source tool for fine-tuning a LLM.'], 'metadatas': [{'source': 'ibm.com', 'page': 1}]}\n"
     ]
    }
   ],
   "source": [
    "#Update\n",
    "#Create new chunk\n",
    "update_chunk =  Document(\n",
    "    page_content=\"Instructlab is a perfect open source tool for fine-tuning a LLM.\",\n",
    "    metadata={\n",
    "        \"source\": \"ibm.com\",\n",
    "        \"page\": 1\n",
    "    }\n",
    ")\n",
    "#add at existing location\n",
    "vectordb.update_document(\n",
    "    '215',\n",
    "    update_chunk,\n",
    ")\n",
    "\n",
    "print(vectordb._collection.get(ids=['215']))"
   ]
  },
  {
   "cell_type": "code",
   "execution_count": 19,
   "metadata": {},
   "outputs": [],
   "source": [
    "#Delete\n",
    "vectordb._collection.delete(ids=['215'])"
   ]
  },
  {
   "cell_type": "code",
   "execution_count": 20,
   "metadata": {},
   "outputs": [
    {
     "name": "stdout",
     "output_type": "stream",
     "text": [
      "{'ids': [], 'embeddings': None, 'documents': [], 'metadatas': []}\n"
     ]
    }
   ],
   "source": [
    "print(vectordb._collection.get(ids=['215']))"
   ]
  },
  {
   "cell_type": "markdown",
   "metadata": {},
   "source": [
    "Another similarity search example"
   ]
  },
  {
   "cell_type": "code",
   "execution_count": 22,
   "metadata": {},
   "outputs": [
    {
     "data": {
      "text/plain": [
       "[Document(metadata={'source': 'companypolicies.txt'}, page_content='Smoking Restrictions: Smoking inside company buildings, offices, meeting rooms, and other enclosed')]"
      ]
     },
     "execution_count": 22,
     "metadata": {},
     "output_type": "execute_result"
    }
   ],
   "source": [
    "#Example similarity search\n",
    "query = \"Smoking policy\"\n",
    "docs = vectordb.similarity_search(query, k=1)\n",
    "docs"
   ]
  }
 ],
 "metadata": {
  "kernelspec": {
   "display_name": "Python 3",
   "language": "python",
   "name": "python3"
  },
  "language_info": {
   "codemirror_mode": {
    "name": "ipython",
    "version": 3
   },
   "file_extension": ".py",
   "mimetype": "text/x-python",
   "name": "python",
   "nbconvert_exporter": "python",
   "pygments_lexer": "ipython3",
   "version": "3.12.1"
  }
 },
 "nbformat": 4,
 "nbformat_minor": 4
}
